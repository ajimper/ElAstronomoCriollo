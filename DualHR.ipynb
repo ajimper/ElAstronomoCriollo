{
  "nbformat": 4,
  "nbformat_minor": 0,
  "metadata": {
    "colab": {
      "private_outputs": true,
      "provenance": [],
      "authorship_tag": "ABX9TyM0GpFXnqCoF8oIrY9QRJU+",
      "include_colab_link": true
    },
    "kernelspec": {
      "name": "python3",
      "display_name": "Python 3"
    },
    "language_info": {
      "name": "python"
    }
  },
  "cells": [
    {
      "cell_type": "markdown",
      "metadata": {
        "id": "view-in-github",
        "colab_type": "text"
      },
      "source": [
        "<a href=\"https://colab.research.google.com/github/ajimper/ElAstronomoCriollo/blob/main/DualHR.ipynb\" target=\"_parent\"><img src=\"https://colab.research.google.com/assets/colab-badge.svg\" alt=\"Open In Colab\"/></a>"
      ]
    },
    {
      "cell_type": "code",
      "execution_count": null,
      "metadata": {
        "id": "NMJYS65wo7g6"
      },
      "outputs": [],
      "source": [
        "!pip install astroquery"
      ]
    },
    {
      "cell_type": "code",
      "source": [
        "from astroquery.vizier import Vizier\n",
        "from astropy import units as u\n",
        "import numpy as np\n",
        "import matplotlib.pyplot as plt\n",
        "\n",
        "# Configurar consultas a Vizier\n",
        "Vizier.ROW_LIMIT = -1  # Descargar todos los resultados\n",
        "Vizier.columns = ['all']  # Seleccionar todas las columnas\n",
        "\n",
        "class Star:\n",
        "    def __init__(self, data):\n",
        "        self.data = data\n",
        "        self._spectral_teff = {\n",
        "            'O': 35000, 'B': 20000, 'A': 8500,\n",
        "            'F': 6500, 'G': 5500, 'K': 4400, 'M': 3200\n",
        "        }\n",
        "\n",
        "    @property\n",
        "    def teff(self):\n",
        "        \"\"\"Calcula temperatura efectiva usando B-V o tipo espectral\"\"\"\n",
        "        if 'B-V' in self.data.colnames and not np.isnan(self.data['B-V']):\n",
        "            return 4600 * (1/(0.92 * self.data['B-V'] + 1.7) + 1/(0.92 * self.data['B-V'] + 0.62)) * u.K\n",
        "        else:\n",
        "            sp_type = self.data['SpType'][0] if 'SpType' in self.data.colnames else 'G'\n",
        "            return self._spectral_teff.get(sp_type, 5500) * u.K\n",
        "\n",
        "    @property\n",
        "    def distance(self):\n",
        "        \"\"\"Calcula distancia con corrección de paralaje\"\"\"\n",
        "        plx = self.data['Plx'] if 'Plx' in self.data.colnames else self.data['Parallax']\n",
        "        if plx <= 0:\n",
        "            return np.nan * u.pc\n",
        "        return (1000/plx) * u.pc\n",
        "\n",
        "    @property\n",
        "    def absolute_magnitude(self):\n",
        "        \"\"\"Magnitud absoluta en banda V\"\"\"\n",
        "        if 'Vmag' in self.data.colnames:\n",
        "            return self.data['Vmag'] - 5 * np.log10(self.distance.value/10)\n",
        "        return np.nan\n",
        "\n",
        "    @property\n",
        "    def luminosity(self):\n",
        "        \"\"\"Luminosidad bolométrica\"\"\"\n",
        "        bc = -0.2 * self.data['B-V'] if 'B-V' in self.data.colnames else -0.5\n",
        "        m_bol = self.absolute_magnitude + bc\n",
        "        return 10**(-0.4*(m_bol - 4.74)) * u.Lsun\n",
        "\n",
        "# Versión 1: Catálogo Hipparcos\n",
        "def plot_hipparcos():\n",
        "    catalog = Vizier.get_catalogs('I/239/hip_main')[0]\n",
        "    named_stars = catalog[~catalog['ProperName'].mask]\n",
        "\n",
        "    stars = [Star(row) for row in named_stars]\n",
        "    teff = [s.teff.value for s in stars if not np.isnan(s.distance.value)]\n",
        "    lum = [s.luminosity.value for s in stars if not np.isnan(s.distance.value)]\n",
        "    names = [s.data['ProperName'] for s in stars if not np.isnan(s.distance.value)]\n",
        "\n",
        "    plt.figure(figsize=(12,8))\n",
        "    plt.scatter(teff, lum, c='royalblue', alpha=0.7)\n",
        "    plt.xlim(30000, 2000)\n",
        "    plt.yscale('log')\n",
        "    plt.title('Diagrama HR - Hipparcos (Estrellas con nombre)')\n",
        "    plt.xlabel('Temperatura Efectiva (K)')\n",
        "    plt.ylabel('Luminosidad (L☉)')\n",
        "\n",
        "    # Anotar algunos nombres\n",
        "    for i, name in enumerate(names):\n",
        "        if lum[i] > 1000 or teff[i] > 10000:\n",
        "            plt.annotate(name, (teff[i], lum[i]), fontsize=8)\n",
        "    plt.show()\n",
        "\n",
        "# Versión 2: Bright Star Catalogue\n",
        "def plot_bright_star():\n",
        "    catalog = Vizier.get_catalogs('V/50')[0]\n",
        "    named_stars = catalog[~catalog['Name'].mask]\n",
        "\n",
        "    stars = [Star(row) for row in named_stars]\n",
        "    teff = [s.teff.value for s in stars if not np.isnan(s.distance.value)]\n",
        "    lum = [s.luminosity.value for s in stars if not np.isnan(s.distance.value)]\n",
        "    names = [s.data['Name'] for s in stars if not np.isnan(s.distance.value)]\n",
        "\n",
        "    plt.figure(figsize=(12,8))\n",
        "    plt.scatter(teff, lum, c='crimson', alpha=0.7)\n",
        "    plt.xlim(30000, 2000)\n",
        "    plt.yscale('log')\n",
        "    plt.title('Diagrama HR - Bright Star Catalogue')\n",
        "    plt.xlabel('Temperatura Efectiva (K)')\n",
        "    plt.ylabel('Luminosidad (L☉)')\n",
        "\n",
        "    # Anotar nombres brillantes\n",
        "    for i, name in enumerate(names):\n",
        "        if lum[i] > 100 or teff[i] < 4000:\n",
        "            plt.annotate(name, (teff[i], lum[i]), fontsize=8)\n",
        "    plt.show()\n",
        "\n",
        "# Ejecutar ambas versiones\n",
        "plot_hipparcos()\n",
        "plot_bright_star()"
      ],
      "metadata": {
        "id": "IzglY6n6pAVQ"
      },
      "execution_count": null,
      "outputs": []
    }
  ]
}